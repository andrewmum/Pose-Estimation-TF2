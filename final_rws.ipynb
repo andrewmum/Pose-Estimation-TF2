{
 "cells": [
  {
   "cell_type": "code",
   "execution_count": null,
   "id": "digital-softball",
   "metadata": {
    "tags": []
   },
   "outputs": [],
   "source": [
    "import cv2\n",
    "import sys\n",
    "import time\n",
    "import logging\n",
    "import numpy as np\n",
    "import matplotlib.pyplot as plt\n",
    "import pickle\n",
    "\n",
    "from tf_pose import common\n",
    "from tf_pose.estimator import TfPoseEstimator\n",
    "from tf_pose.networks import get_graph_path, model_wh\n",
    "\n",
    "\n",
    "# cap equals video capture of this gif\n",
    "cap= cv2.VideoCapture('./images/squat.gif')\n",
    "# while there are frames\n",
    "i=0\n",
    "while(cap.isOpened()):\n",
    "#     read frames\n",
    "    ret, frame = cap.read()\n",
    "#     if no more frames break\n",
    "    if ret == False:\n",
    "        break\n",
    "#     write (this frame) into gif_spread/kang(i).jpg | frame\n",
    "    cv2.imwrite('./gif_spread/kang'+str(i)+'.jpg',frame)\n",
    "    i+=1\n",
    "cap.release()\n",
    "cv2.destroyAllWindows()"
   ]
  },
  {
   "cell_type": "code",
   "execution_count": 2,
   "id": "violent-keyboard",
   "metadata": {},
   "outputs": [],
   "source": [
    "\n",
    "#parameters\n",
    "model='mobilenet_thin'\n",
    "resize='432x368'\n",
    "w, h = model_wh(resize)\n",
    "\n",
    "# creating estimator\n",
    "e = TfPoseEstimator(get_graph_path(model), target_size=(w, h))\n",
    "\n",
    "image_path = './gif_spread/kang0.jpg'\n",
    "image = cv2.imread(image_path)\n",
    "image = cv2.cvtColor(image, cv2.COLOR_BGR2RGB)\n",
    "# dont need to show\n",
    "# plt.imshow(image)\n",
    "# plt.grid();"
   ]
  },
  {
   "cell_type": "code",
   "execution_count": null,
   "id": "personal-luxury",
   "metadata": {},
   "outputs": [],
   "source": [
    "image = common.read_imgfile(image_path, None, None)\n",
    "humans = e.inference(image, resize_to_default=(w > 0 and h > 0), upsample_size=4.0)\n",
    "max_prob = np.amax(e.heatMat[:, :, :-1], axis=2)\n",
    "# dont need to show image\n",
    "# plt.imshow(max_prob)\n",
    "# plt.grid();"
   ]
  },
  {
   "cell_type": "code",
   "execution_count": null,
   "id": "alternative-preservation",
   "metadata": {},
   "outputs": [],
   "source": [
    "plt.figure(figsize=(15,8))\n",
    "bgimg = cv2.cvtColor(image.astype(np.uint8), cv2.COLOR_BGR2RGB)\n",
    "bgimg = cv2.resize(bgimg, (e.heatMat.shape[1], e.heatMat.shape[0]), interpolation=cv2.INTER_AREA)\n",
    "plt.imshow(bgimg, alpha=0.5)\n",
    "plt.imshow(max_prob, alpha=0.5)\n",
    "plt.colorbar()\n",
    "plt.grid();\n",
    "# NEED THIS TO DRAW HUMAN\n",
    "image = TfPoseEstimator.draw_humans(image, humans, imgcopy=False)\n",
    "\n",
    "# SAVE THE JPG OF THE SKELETON\n",
    "cv2.imwrite('./skelly/test.jpg',image)\n",
    "\n",
    "\n",
    "\n"
   ]
  },
  {
   "cell_type": "code",
   "execution_count": 3,
   "id": "multiple-scotland",
   "metadata": {},
   "outputs": [],
   "source": []
  },
  {
   "cell_type": "code",
   "execution_count": null,
   "id": "present-influence",
   "metadata": {},
   "outputs": [],
   "source": []
  }
 ],
 "metadata": {
  "kernelspec": {
   "display_name": "Python 3",
   "language": "python",
   "name": "python3"
  },
  "language_info": {
   "codemirror_mode": {
    "name": "ipython",
    "version": 3
   },
   "file_extension": ".py",
   "mimetype": "text/x-python",
   "name": "python",
   "nbconvert_exporter": "python",
   "pygments_lexer": "ipython3",
   "version": "3.7.6"
  }
 },
 "nbformat": 4,
 "nbformat_minor": 5
}
