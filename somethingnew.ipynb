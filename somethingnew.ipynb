{
 "cells": [
  {
   "cell_type": "code",
   "execution_count": 56,
   "id": "complicated-symposium",
   "metadata": {},
   "outputs": [],
   "source": [
    "import cv2\n",
    "import sys\n",
    "import time\n",
    "import logging\n",
    "import numpy as np\n",
    "import matplotlib.pyplot as plt\n",
    "# for iterating through folder\n",
    "import os\n",
    "# pickling\n",
    "import pickle\n",
    "\n",
    "from tf_pose import common\n",
    "from tf_pose.estimator import TfPoseEstimator\n",
    "from tf_pose.networks import get_graph_path, model_wh\n",
    "\n",
    "\n",
    "#parameters\n",
    "model='mobilenet_thin'\n",
    "resize='432x368'\n",
    "w, h = model_wh(resize)\n",
    "\n",
    "# creating estimator\n",
    "e = TfPoseEstimator(get_graph_path(model), target_size=(w, h))\n",
    "\n",
    " \n",
    "# cap equals video capture of this gif\n",
    "cap= cv2.VideoCapture('./images/giphsquat.gif')\n",
    "# while there are frames\n",
    "i=0\n",
    "while(cap.isOpened()):\n",
    "#     read frames\n",
    "    ret, frame = cap.read()\n",
    "#     if no more frames break\n",
    "    if ret == False:\n",
    "        break\n",
    "#     write (this frame) into gif_spread/kang(i).jpg | frame\n",
    "    cv2.imwrite('./gif_spread/squat'+str(i)+'.jpg',frame)\n",
    "    i+=2\n",
    "cap.release()\n",
    "cv2.destroyAllWindows()"
   ]
  },
  {
   "cell_type": "code",
   "execution_count": 68,
   "id": "independent-killing",
   "metadata": {},
   "outputs": [],
   "source": [
    "index=0\n",
    "directory = './gif_spread'\n",
    "for fn in os.listdir(directory):\n",
    "    index+=1\n",
    "    if fn.endswith(\".jpg\"):\n",
    "        image_path = os.path.join(directory, fn)\n",
    "        image = cv2.imread(image_path)\n",
    "        image = common.read_imgfile(image_path, None, None)\n",
    "        humans = e.inference(image, resize_to_default=(w > 0 and h > 0), upsample_size=4.0)\n",
    "        image = TfPoseEstimator.draw_humans(image, humans, imgcopy=False)\n",
    "        cv2.imwrite('./skelly/'+str(fn)+'',image)\n",
    "        keypoints = str(str(str(humans[0]).split('BodyPart:')[1:]).split('-')).split(' score=')\n",
    "        with open('./pickled_frames/'+str(index)+'', 'wb') as f:\n",
    "            # Pickle the 'data' dictionary using the highest protocol available.\n",
    "            pickle.dump(keypoints, f, pickle.HIGHEST_PROTOCOL)\n",
    "    else:\n",
    "        continue  \n"
   ]
  },
  {
   "cell_type": "code",
   "execution_count": 69,
   "id": "elementary-concentrate",
   "metadata": {},
   "outputs": [],
   "source": [
    "# unpickling the first frame\n",
    "with open('pickled_frames/1', 'rb') as f:\n",
    "    # The protocol version used is detected automatically, so we do not\n",
    "    # have to specify it.\n",
    "    data1 = pickle.load(f)"
   ]
  },
  {
   "cell_type": "code",
   "execution_count": 70,
   "id": "returning-search",
   "metadata": {},
   "outputs": [
    {
     "data": {
      "text/plain": [
       "['[\"[\\'0\", \"(0.50, 0.53)',\n",
       " '0.70 \\', \\'1\", \"(0.50, 0.59)',\n",
       " '0.86 \\', \\'2\", \"(0.46, 0.59)',\n",
       " '0.84 \\', \\'3\", \"(0.44, 0.70)',\n",
       " '0.59 \\', \\'4\", \"(0.46, 0.71)',\n",
       " '0.37 \\', \\'5\", \"(0.54, 0.58)',\n",
       " '0.74 \\', \\'6\", \"(0.57, 0.71)',\n",
       " '0.66 \\', \\'7\", \"(0.50, 0.70)',\n",
       " '0.58 \\', \\'8\", \"(0.47, 0.74)',\n",
       " '0.46 \\', \\'9\", \"(0.44, 0.78)',\n",
       " '0.59 \\', \\'10\", \"(0.47, 0.90)',\n",
       " '0.53 \\', \\'11\", \"(0.53, 0.76)',\n",
       " '0.40 \\', \\'12\", \"(0.55, 0.78)',\n",
       " '0.29 \\', \\'13\", \"(0.53, 0.91)',\n",
       " '0.41 \\', \\'14\", \"(0.50, 0.52)',\n",
       " '0.79 \\', \\'15\", \"(0.51, 0.52)',\n",
       " '0.78 \\', \\'16\", \"(0.48, 0.52)',\n",
       " '0.78 \\', \\'17\", \"(0.52, 0.52)',\n",
       " '0.44\\']\"]']"
      ]
     },
     "execution_count": 70,
     "metadata": {},
     "output_type": "execute_result"
    }
   ],
   "source": [
    "# calling the data1 for the first fram\n",
    "data1"
   ]
  },
  {
   "cell_type": "code",
   "execution_count": 32,
   "id": "forbidden-administrator",
   "metadata": {},
   "outputs": [],
   "source": []
  },
  {
   "cell_type": "code",
   "execution_count": null,
   "id": "rising-lawyer",
   "metadata": {},
   "outputs": [],
   "source": []
  },
  {
   "cell_type": "code",
   "execution_count": 1,
   "id": "provincial-suspect",
   "metadata": {},
   "outputs": [],
   "source": []
  },
  {
   "cell_type": "code",
   "execution_count": null,
   "id": "seeing-catholic",
   "metadata": {},
   "outputs": [],
   "source": []
  }
 ],
 "metadata": {
  "kernelspec": {
   "display_name": "Python 3",
   "language": "python",
   "name": "python3"
  },
  "language_info": {
   "codemirror_mode": {
    "name": "ipython",
    "version": 3
   },
   "file_extension": ".py",
   "mimetype": "text/x-python",
   "name": "python",
   "nbconvert_exporter": "python",
   "pygments_lexer": "ipython3",
   "version": "3.7.6"
  }
 },
 "nbformat": 4,
 "nbformat_minor": 5
}
