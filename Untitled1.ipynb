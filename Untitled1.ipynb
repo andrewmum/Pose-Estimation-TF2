{
 "cells": [
  {
   "cell_type": "code",
   "execution_count": 18,
   "id": "equivalent-resistance",
   "metadata": {},
   "outputs": [],
   "source": [
    "with open('pickled_frames/1', 'rb') as f:\n",
    "    # The protocol version used is detected automatically, so we do not\n",
    "    # have to specify it.\n",
    "    data1 = pickle.load(f)"
   ]
  },
  {
   "cell_type": "code",
   "execution_count": 19,
   "id": "pregnant-swaziland",
   "metadata": {},
   "outputs": [
    {
     "data": {
      "text/plain": [
       "['[\"[\\'0\", \"(0.50, 0.53)',\n",
       " '0.70 \\', \\'1\", \"(0.50, 0.59)',\n",
       " '0.86 \\', \\'2\", \"(0.46, 0.59)',\n",
       " '0.84 \\', \\'3\", \"(0.44, 0.70)',\n",
       " '0.59 \\', \\'4\", \"(0.46, 0.71)',\n",
       " '0.37 \\', \\'5\", \"(0.54, 0.58)',\n",
       " '0.74 \\', \\'6\", \"(0.57, 0.71)',\n",
       " '0.66 \\', \\'7\", \"(0.50, 0.70)',\n",
       " '0.58 \\', \\'8\", \"(0.47, 0.74)',\n",
       " '0.46 \\', \\'9\", \"(0.44, 0.78)',\n",
       " '0.59 \\', \\'10\", \"(0.47, 0.90)',\n",
       " '0.53 \\', \\'11\", \"(0.53, 0.76)',\n",
       " '0.40 \\', \\'12\", \"(0.55, 0.78)',\n",
       " '0.29 \\', \\'13\", \"(0.53, 0.91)',\n",
       " '0.41 \\', \\'14\", \"(0.50, 0.52)',\n",
       " '0.79 \\', \\'15\", \"(0.51, 0.52)',\n",
       " '0.78 \\', \\'16\", \"(0.48, 0.52)',\n",
       " '0.78 \\', \\'17\", \"(0.52, 0.52)',\n",
       " '0.44\\']\"]']"
      ]
     },
     "execution_count": 19,
     "metadata": {},
     "output_type": "execute_result"
    }
   ],
   "source": [
    "data1\n"
   ]
  },
  {
   "cell_type": "code",
   "execution_count": null,
   "id": "digital-classification",
   "metadata": {},
   "outputs": [],
   "source": [
    "\n"
   ]
  }
 ],
 "metadata": {
  "kernelspec": {
   "display_name": "Python 3",
   "language": "python",
   "name": "python3"
  },
  "language_info": {
   "codemirror_mode": {
    "name": "ipython",
    "version": 3
   },
   "file_extension": ".py",
   "mimetype": "text/x-python",
   "name": "python",
   "nbconvert_exporter": "python",
   "pygments_lexer": "ipython3",
   "version": "3.7.6"
  }
 },
 "nbformat": 4,
 "nbformat_minor": 5
}
